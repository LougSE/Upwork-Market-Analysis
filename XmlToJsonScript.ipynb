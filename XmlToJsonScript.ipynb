{
 "cells": [
  {
   "cell_type": "markdown",
   "metadata": {},
   "source": [
    "This Script is supposed to transform old xml files to json (for better handling)"
   ]
  },
  {
   "cell_type": "markdown",
   "metadata": {},
   "source": []
  },
  {
   "cell_type": "code",
   "execution_count": 11,
   "metadata": {},
   "outputs": [],
   "source": [
    "import os\n",
    "import json\n",
    "import xmltodict"
   ]
  },
  {
   "cell_type": "code",
   "execution_count": 7,
   "metadata": {},
   "outputs": [
    {
     "name": "stdout",
     "output_type": "stream",
     "text": [
      "C:\\Users\\saadl\\OneDrive\\Bureau\\Loug\\Data Science Projects\n"
     ]
    }
   ],
   "source": [
    "#Load environement variables\n",
    "pathenv = \"DataScienceProjectsPath\"\n",
    "subpath = os.getenv(pathenv)\n",
    "dubpath = r\"20240517 UPWORK RSS Feed\\1-Original Data\\RSS Files\\Old XML Files\"\n",
    "print(subpath)\n",
    "\n",
    "# Directory to save the files\n",
    "save_directory = os.path.join(subpath,dubpath)"
   ]
  },
  {
   "cell_type": "code",
   "execution_count": 9,
   "metadata": {},
   "outputs": [
    {
     "data": {
      "text/plain": [
       "['05',\n",
       " '06',\n",
       " '07',\n",
       " '20240513_RSS_PowerBI.txt',\n",
       " '20240514_RSS_PowerBI.txt',\n",
       " '20240516_RSS_PowerBI.txt',\n",
       " '20240517_RSS_PowerBI.txt',\n",
       " '20240520_RSS_PowerBI.xml',\n",
       " '20240522_RSS_PowerBI.xml',\n",
       " '20240524_RSS_PowerBI.xml',\n",
       " '20240526_RSS_PowerBI.xml',\n",
       " '20240528_RSS_PowerBI.xml',\n",
       " '20240529_RSS_PowerBI.json',\n",
       " '20240529_RSS_PowerBI.xml',\n",
       " '20240530_RSS_PowerBI.xml',\n",
       " '20240601_RSS_PowerBI.xml',\n",
       " '20240603_RSS_PowerBI.xml',\n",
       " '20240605_RSS_PowerBI.xml',\n",
       " '20240607_RSS_PowerBI.xml',\n",
       " '20240613_RSS_PowerBI.xml',\n",
       " '20240615_RSS_PowerBI.xml',\n",
       " '20240619_RSS_PowerBI.xml',\n",
       " '20240621_RSS_PowerBI.xml',\n",
       " '20240623_RSS_PowerBI.xml',\n",
       " '20240625_RSS_PowerBI.xml',\n",
       " '20240627_RSS_PowerBI.xml',\n",
       " '20240629_RSS_PowerBI.xml',\n",
       " '20240701_RSS_PowerBI.xml',\n",
       " '20240703_RSS_PowerBI.xml',\n",
       " '20240705_RSS_PowerBI.xml',\n",
       " '20240707_RSS_PowerBI.xml',\n",
       " '20240709_RSS_PowerBI.xml',\n",
       " '20240711_RSS_PowerBI.xml',\n",
       " '20240713_RSS_PowerBI.xml',\n",
       " '20240715_RSS_PowerBI.xml',\n",
       " '20240717_RSS_PowerBI.xml',\n",
       " '20240718_RSS_PowerBI.xml']"
      ]
     },
     "execution_count": 9,
     "metadata": {},
     "output_type": "execute_result"
    }
   ],
   "source": [
    "files = os.listdir(save_directory)\n",
    "files"
   ]
  },
  {
   "cell_type": "code",
   "execution_count": null,
   "metadata": {},
   "outputs": [],
   "source": []
  },
  {
   "cell_type": "markdown",
   "metadata": {},
   "source": [
    "for each file in old xml files:\n",
    "    check extention (.xml/.txt) file\n",
    "    transform to json file\n",
    "    check month ('YYYYMMDD') take MM then put it in a MM folder\n",
    "    Save new file\n"
   ]
  },
  {
   "cell_type": "code",
   "execution_count": 12,
   "metadata": {},
   "outputs": [
    {
     "name": "stdout",
     "output_type": "stream",
     "text": [
      "C:\\Users\\saadl\\OneDrive\\Bureau\\Loug\\Data Science Projects\\20240517 UPWORK RSS Feed\\1-Original Data\\RSS Files\\Old XML Files\n"
     ]
    }
   ],
   "source": [
    "print(save_directory)"
   ]
  },
  {
   "cell_type": "code",
   "execution_count": 15,
   "metadata": {},
   "outputs": [
    {
     "name": "stdout",
     "output_type": "stream",
     "text": [
      "Converted 20240513_RSS_PowerBI.txt saved successfully.\n"
     ]
    },
    {
     "ename": "UnicodeDecodeError",
     "evalue": "'charmap' codec can't decode byte 0x8f in position 10299: character maps to <undefined>",
     "output_type": "error",
     "traceback": [
      "\u001b[1;31m---------------------------------------------------------------------------\u001b[0m",
      "\u001b[1;31mUnicodeDecodeError\u001b[0m                        Traceback (most recent call last)",
      "Cell \u001b[1;32mIn[15], line 11\u001b[0m\n\u001b[0;32m      9\u001b[0m json_file_path \u001b[38;5;241m=\u001b[39m os\u001b[38;5;241m.\u001b[39mpath\u001b[38;5;241m.\u001b[39mjoin(json_save_directory, file)\n\u001b[0;32m     10\u001b[0m \u001b[38;5;28;01mwith\u001b[39;00m \u001b[38;5;28mopen\u001b[39m(xml_file_path, \u001b[38;5;124m'\u001b[39m\u001b[38;5;124mr\u001b[39m\u001b[38;5;124m'\u001b[39m) \u001b[38;5;28;01mas\u001b[39;00m xml_file:\n\u001b[1;32m---> 11\u001b[0m     xml_content \u001b[38;5;241m=\u001b[39m \u001b[43mxml_file\u001b[49m\u001b[38;5;241;43m.\u001b[39;49m\u001b[43mread\u001b[49m\u001b[43m(\u001b[49m\u001b[43m)\u001b[49m\n\u001b[0;32m     12\u001b[0m     json_data \u001b[38;5;241m=\u001b[39m xmltodict\u001b[38;5;241m.\u001b[39mparse(xml_content)\n\u001b[0;32m     13\u001b[0m     \u001b[38;5;28;01mwith\u001b[39;00m \u001b[38;5;28mopen\u001b[39m(json_file_path, \u001b[38;5;124m'\u001b[39m\u001b[38;5;124mw\u001b[39m\u001b[38;5;124m'\u001b[39m) \u001b[38;5;28;01mas\u001b[39;00m json_file:\n",
      "File \u001b[1;32mc:\\Users\\saadl\\AppData\\Local\\Programs\\Python\\Python311\\Lib\\encodings\\cp1252.py:23\u001b[0m, in \u001b[0;36mIncrementalDecoder.decode\u001b[1;34m(self, input, final)\u001b[0m\n\u001b[0;32m     22\u001b[0m \u001b[38;5;28;01mdef\u001b[39;00m \u001b[38;5;21mdecode\u001b[39m(\u001b[38;5;28mself\u001b[39m, \u001b[38;5;28minput\u001b[39m, final\u001b[38;5;241m=\u001b[39m\u001b[38;5;28;01mFalse\u001b[39;00m):\n\u001b[1;32m---> 23\u001b[0m     \u001b[38;5;28;01mreturn\u001b[39;00m codecs\u001b[38;5;241m.\u001b[39mcharmap_decode(\u001b[38;5;28minput\u001b[39m,\u001b[38;5;28mself\u001b[39m\u001b[38;5;241m.\u001b[39merrors,decoding_table)[\u001b[38;5;241m0\u001b[39m]\n",
      "\u001b[1;31mUnicodeDecodeError\u001b[0m: 'charmap' codec can't decode byte 0x8f in position 10299: character maps to <undefined>"
     ]
    }
   ],
   "source": [
    "json_save_directory = os.path.join(save_directory,\"Converted Files\")\n",
    "os.makedirs(json_save_directory, exist_ok=True)\n",
    "\n",
    "#Script\n",
    "for file in files:\n",
    "    if file[-4:]==\".xml\" or file[-4:]==\".txt\":\n",
    "        #json_file_name = f\"{current_date}_RSS_{keyword}.json\"\n",
    "        xml_file_path = os.path.join(save_directory, file)\n",
    "        json_file_path = os.path.join(json_save_directory, file)\n",
    "        with open(xml_file_path, 'r') as xml_file:\n",
    "            xml_content = xml_file.read()\n",
    "            json_data = xmltodict.parse(xml_content)\n",
    "            with open(json_file_path, 'w') as json_file:\n",
    "                json.dump(json_data, json_file, indent=4)\n",
    "        print(f\"Converted {file} saved successfully.\")\n"
   ]
  },
  {
   "cell_type": "code",
   "execution_count": 16,
   "metadata": {},
   "outputs": [
    {
     "name": "stdout",
     "output_type": "stream",
     "text": [
      "Converted 20240513_RSS_PowerBI.txt and saved as C:\\Users\\saadl\\OneDrive\\Bureau\\Loug\\Data Science Projects\\20240517 UPWORK RSS Feed\\1-Original Data\\RSS Files\\Old XML Files\\Converted Files\\20240513_RSS_PowerBI.json successfully.\n",
      "Converted 20240514_RSS_PowerBI.txt and saved as C:\\Users\\saadl\\OneDrive\\Bureau\\Loug\\Data Science Projects\\20240517 UPWORK RSS Feed\\1-Original Data\\RSS Files\\Old XML Files\\Converted Files\\20240514_RSS_PowerBI.json successfully.\n",
      "Converted 20240516_RSS_PowerBI.txt and saved as C:\\Users\\saadl\\OneDrive\\Bureau\\Loug\\Data Science Projects\\20240517 UPWORK RSS Feed\\1-Original Data\\RSS Files\\Old XML Files\\Converted Files\\20240516_RSS_PowerBI.json successfully.\n",
      "Converted 20240517_RSS_PowerBI.txt and saved as C:\\Users\\saadl\\OneDrive\\Bureau\\Loug\\Data Science Projects\\20240517 UPWORK RSS Feed\\1-Original Data\\RSS Files\\Old XML Files\\Converted Files\\20240517_RSS_PowerBI.json successfully.\n",
      "Converted 20240520_RSS_PowerBI.xml and saved as C:\\Users\\saadl\\OneDrive\\Bureau\\Loug\\Data Science Projects\\20240517 UPWORK RSS Feed\\1-Original Data\\RSS Files\\Old XML Files\\Converted Files\\20240520_RSS_PowerBI.json successfully.\n",
      "Converted 20240522_RSS_PowerBI.xml and saved as C:\\Users\\saadl\\OneDrive\\Bureau\\Loug\\Data Science Projects\\20240517 UPWORK RSS Feed\\1-Original Data\\RSS Files\\Old XML Files\\Converted Files\\20240522_RSS_PowerBI.json successfully.\n",
      "Converted 20240524_RSS_PowerBI.xml and saved as C:\\Users\\saadl\\OneDrive\\Bureau\\Loug\\Data Science Projects\\20240517 UPWORK RSS Feed\\1-Original Data\\RSS Files\\Old XML Files\\Converted Files\\20240524_RSS_PowerBI.json successfully.\n",
      "Converted 20240526_RSS_PowerBI.xml and saved as C:\\Users\\saadl\\OneDrive\\Bureau\\Loug\\Data Science Projects\\20240517 UPWORK RSS Feed\\1-Original Data\\RSS Files\\Old XML Files\\Converted Files\\20240526_RSS_PowerBI.json successfully.\n",
      "Converted 20240528_RSS_PowerBI.xml and saved as C:\\Users\\saadl\\OneDrive\\Bureau\\Loug\\Data Science Projects\\20240517 UPWORK RSS Feed\\1-Original Data\\RSS Files\\Old XML Files\\Converted Files\\20240528_RSS_PowerBI.json successfully.\n",
      "Converted 20240529_RSS_PowerBI.xml and saved as C:\\Users\\saadl\\OneDrive\\Bureau\\Loug\\Data Science Projects\\20240517 UPWORK RSS Feed\\1-Original Data\\RSS Files\\Old XML Files\\Converted Files\\20240529_RSS_PowerBI.json successfully.\n",
      "Converted 20240530_RSS_PowerBI.xml and saved as C:\\Users\\saadl\\OneDrive\\Bureau\\Loug\\Data Science Projects\\20240517 UPWORK RSS Feed\\1-Original Data\\RSS Files\\Old XML Files\\Converted Files\\20240530_RSS_PowerBI.json successfully.\n",
      "Converted 20240601_RSS_PowerBI.xml and saved as C:\\Users\\saadl\\OneDrive\\Bureau\\Loug\\Data Science Projects\\20240517 UPWORK RSS Feed\\1-Original Data\\RSS Files\\Old XML Files\\Converted Files\\20240601_RSS_PowerBI.json successfully.\n",
      "Converted 20240603_RSS_PowerBI.xml and saved as C:\\Users\\saadl\\OneDrive\\Bureau\\Loug\\Data Science Projects\\20240517 UPWORK RSS Feed\\1-Original Data\\RSS Files\\Old XML Files\\Converted Files\\20240603_RSS_PowerBI.json successfully.\n",
      "Converted 20240605_RSS_PowerBI.xml and saved as C:\\Users\\saadl\\OneDrive\\Bureau\\Loug\\Data Science Projects\\20240517 UPWORK RSS Feed\\1-Original Data\\RSS Files\\Old XML Files\\Converted Files\\20240605_RSS_PowerBI.json successfully.\n",
      "Converted 20240607_RSS_PowerBI.xml and saved as C:\\Users\\saadl\\OneDrive\\Bureau\\Loug\\Data Science Projects\\20240517 UPWORK RSS Feed\\1-Original Data\\RSS Files\\Old XML Files\\Converted Files\\20240607_RSS_PowerBI.json successfully.\n",
      "Converted 20240613_RSS_PowerBI.xml and saved as C:\\Users\\saadl\\OneDrive\\Bureau\\Loug\\Data Science Projects\\20240517 UPWORK RSS Feed\\1-Original Data\\RSS Files\\Old XML Files\\Converted Files\\20240613_RSS_PowerBI.json successfully.\n",
      "Converted 20240615_RSS_PowerBI.xml and saved as C:\\Users\\saadl\\OneDrive\\Bureau\\Loug\\Data Science Projects\\20240517 UPWORK RSS Feed\\1-Original Data\\RSS Files\\Old XML Files\\Converted Files\\20240615_RSS_PowerBI.json successfully.\n",
      "Converted 20240619_RSS_PowerBI.xml and saved as C:\\Users\\saadl\\OneDrive\\Bureau\\Loug\\Data Science Projects\\20240517 UPWORK RSS Feed\\1-Original Data\\RSS Files\\Old XML Files\\Converted Files\\20240619_RSS_PowerBI.json successfully.\n",
      "Converted 20240621_RSS_PowerBI.xml and saved as C:\\Users\\saadl\\OneDrive\\Bureau\\Loug\\Data Science Projects\\20240517 UPWORK RSS Feed\\1-Original Data\\RSS Files\\Old XML Files\\Converted Files\\20240621_RSS_PowerBI.json successfully.\n",
      "Converted 20240623_RSS_PowerBI.xml and saved as C:\\Users\\saadl\\OneDrive\\Bureau\\Loug\\Data Science Projects\\20240517 UPWORK RSS Feed\\1-Original Data\\RSS Files\\Old XML Files\\Converted Files\\20240623_RSS_PowerBI.json successfully.\n",
      "Converted 20240625_RSS_PowerBI.xml and saved as C:\\Users\\saadl\\OneDrive\\Bureau\\Loug\\Data Science Projects\\20240517 UPWORK RSS Feed\\1-Original Data\\RSS Files\\Old XML Files\\Converted Files\\20240625_RSS_PowerBI.json successfully.\n",
      "Converted 20240627_RSS_PowerBI.xml and saved as C:\\Users\\saadl\\OneDrive\\Bureau\\Loug\\Data Science Projects\\20240517 UPWORK RSS Feed\\1-Original Data\\RSS Files\\Old XML Files\\Converted Files\\20240627_RSS_PowerBI.json successfully.\n",
      "Converted 20240629_RSS_PowerBI.xml and saved as C:\\Users\\saadl\\OneDrive\\Bureau\\Loug\\Data Science Projects\\20240517 UPWORK RSS Feed\\1-Original Data\\RSS Files\\Old XML Files\\Converted Files\\20240629_RSS_PowerBI.json successfully.\n",
      "Converted 20240701_RSS_PowerBI.xml and saved as C:\\Users\\saadl\\OneDrive\\Bureau\\Loug\\Data Science Projects\\20240517 UPWORK RSS Feed\\1-Original Data\\RSS Files\\Old XML Files\\Converted Files\\20240701_RSS_PowerBI.json successfully.\n",
      "Converted 20240703_RSS_PowerBI.xml and saved as C:\\Users\\saadl\\OneDrive\\Bureau\\Loug\\Data Science Projects\\20240517 UPWORK RSS Feed\\1-Original Data\\RSS Files\\Old XML Files\\Converted Files\\20240703_RSS_PowerBI.json successfully.\n",
      "Converted 20240705_RSS_PowerBI.xml and saved as C:\\Users\\saadl\\OneDrive\\Bureau\\Loug\\Data Science Projects\\20240517 UPWORK RSS Feed\\1-Original Data\\RSS Files\\Old XML Files\\Converted Files\\20240705_RSS_PowerBI.json successfully.\n",
      "Converted 20240707_RSS_PowerBI.xml and saved as C:\\Users\\saadl\\OneDrive\\Bureau\\Loug\\Data Science Projects\\20240517 UPWORK RSS Feed\\1-Original Data\\RSS Files\\Old XML Files\\Converted Files\\20240707_RSS_PowerBI.json successfully.\n",
      "Converted 20240709_RSS_PowerBI.xml and saved as C:\\Users\\saadl\\OneDrive\\Bureau\\Loug\\Data Science Projects\\20240517 UPWORK RSS Feed\\1-Original Data\\RSS Files\\Old XML Files\\Converted Files\\20240709_RSS_PowerBI.json successfully.\n",
      "Converted 20240711_RSS_PowerBI.xml and saved as C:\\Users\\saadl\\OneDrive\\Bureau\\Loug\\Data Science Projects\\20240517 UPWORK RSS Feed\\1-Original Data\\RSS Files\\Old XML Files\\Converted Files\\20240711_RSS_PowerBI.json successfully.\n",
      "Converted 20240713_RSS_PowerBI.xml and saved as C:\\Users\\saadl\\OneDrive\\Bureau\\Loug\\Data Science Projects\\20240517 UPWORK RSS Feed\\1-Original Data\\RSS Files\\Old XML Files\\Converted Files\\20240713_RSS_PowerBI.json successfully.\n",
      "Converted 20240715_RSS_PowerBI.xml and saved as C:\\Users\\saadl\\OneDrive\\Bureau\\Loug\\Data Science Projects\\20240517 UPWORK RSS Feed\\1-Original Data\\RSS Files\\Old XML Files\\Converted Files\\20240715_RSS_PowerBI.json successfully.\n",
      "Converted 20240717_RSS_PowerBI.xml and saved as C:\\Users\\saadl\\OneDrive\\Bureau\\Loug\\Data Science Projects\\20240517 UPWORK RSS Feed\\1-Original Data\\RSS Files\\Old XML Files\\Converted Files\\20240717_RSS_PowerBI.json successfully.\n",
      "Converted 20240718_RSS_PowerBI.xml and saved as C:\\Users\\saadl\\OneDrive\\Bureau\\Loug\\Data Science Projects\\20240517 UPWORK RSS Feed\\1-Original Data\\RSS Files\\Old XML Files\\Converted Files\\20240718_RSS_PowerBI.json successfully.\n"
     ]
    }
   ],
   "source": [
    "\n",
    "for file in files:\n",
    "    if file.endswith(\".xml\") or file.endswith(\".txt\"):\n",
    "        # Construct full paths to the input and output files\n",
    "        xml_file_path = os.path.join(save_directory, file)\n",
    "        json_file_path = os.path.join(json_save_directory, file.replace(\".txt\", \".json\").replace(\".xml\", \".json\"))\n",
    "        \n",
    "        try:\n",
    "            # Read the XML content from the file with 'utf-8' encoding\n",
    "            with open(xml_file_path, 'r', encoding='utf-8') as xml_file:\n",
    "                xml_content = xml_file.read()\n",
    "            \n",
    "            # Parse the XML content to a Python dictionary\n",
    "            json_data = xmltodict.parse(xml_content)\n",
    "            \n",
    "            # Write the JSON data to the output file\n",
    "            with open(json_file_path, 'w', encoding='utf-8') as json_file:\n",
    "                json.dump(json_data, json_file, indent=4)\n",
    "            \n",
    "            # Print success message\n",
    "            print(f\"Converted {file} and saved as {json_file_path} successfully.\")\n",
    "        except UnicodeDecodeError:\n",
    "            print(f\"UnicodeDecodeError: Failed to read {file} with 'utf-8' encoding. Trying 'latin-1' encoding.\")\n",
    "            try:\n",
    "                # Retry reading the XML content with 'latin-1' encoding\n",
    "                with open(xml_file_path, 'r', encoding='latin-1') as xml_file:\n",
    "                    xml_content = xml_file.read()\n",
    "                \n",
    "                # Parse the XML content to a Python dictionary\n",
    "                json_data = xmltodict.parse(xml_content)\n",
    "                \n",
    "                # Write the JSON data to the output file\n",
    "                with open(json_file_path, 'w', encoding='utf-8') as json_file:\n",
    "                    json.dump(json_data, json_file, indent=4)\n",
    "                \n",
    "                # Print success message\n",
    "                print(f\"Converted {file} and saved as {json_file_path} successfully.\")\n",
    "            except Exception as e:\n",
    "                # Print error message if parsing fails\n",
    "                print(f\"Failed to convert {file}: {e}\")\n",
    "        except Exception as e:\n",
    "            # Print error message if parsing fails\n",
    "            print(f\"Failed to convert {file}: {e}\")"
   ]
  },
  {
   "cell_type": "code",
   "execution_count": 10,
   "metadata": {},
   "outputs": [
    {
     "name": "stdout",
     "output_type": "stream",
     "text": [
      "t348\n"
     ]
    }
   ],
   "source": [
    "#test\n",
    "text=\"thisisatest348\"\n",
    "print(text[-4:])"
   ]
  },
  {
   "cell_type": "code",
   "execution_count": null,
   "metadata": {},
   "outputs": [],
   "source": []
  }
 ],
 "metadata": {
  "kernelspec": {
   "display_name": "Python 3",
   "language": "python",
   "name": "python3"
  },
  "language_info": {
   "codemirror_mode": {
    "name": "ipython",
    "version": 3
   },
   "file_extension": ".py",
   "mimetype": "text/x-python",
   "name": "python",
   "nbconvert_exporter": "python",
   "pygments_lexer": "ipython3",
   "version": "3.11.0"
  }
 },
 "nbformat": 4,
 "nbformat_minor": 2
}
